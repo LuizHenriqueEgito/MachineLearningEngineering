{
 "cells": [
  {
   "cell_type": "code",
   "execution_count": 1,
   "id": "171e2cc6-9638-4291-bef6-643386c1a7f7",
   "metadata": {},
   "outputs": [],
   "source": [
    "import numpy as np"
   ]
  },
  {
   "cell_type": "markdown",
   "id": "50d90115-5b4b-4d44-9631-5b57929a84d0",
   "metadata": {},
   "source": [
    "# Flatten"
   ]
  },
  {
   "cell_type": "markdown",
   "id": "fc881930-17a5-4a7a-9c75-c418f016450b",
   "metadata": {},
   "source": [
    "- [ ] Melhore"
   ]
  },
  {
   "cell_type": "code",
   "execution_count": 9,
   "id": "fa834c45-d949-43eb-860a-f5e2f4af76a3",
   "metadata": {},
   "outputs": [],
   "source": [
    "tensor = np.random.randn(2, 2, 2, 2).round(2)"
   ]
  },
  {
   "cell_type": "code",
   "execution_count": 10,
   "id": "e93685cb-02a8-4479-af67-54b6d9eab0f1",
   "metadata": {},
   "outputs": [
    {
     "data": {
      "text/plain": [
       "array([[[[-0.42,  1.68],\n",
       "         [ 0.12,  1.06]],\n",
       "\n",
       "        [[-1.4 ,  0.27],\n",
       "         [-0.32, -1.06]]],\n",
       "\n",
       "\n",
       "       [[[ 2.12,  0.32],\n",
       "         [-0.28,  0.82]],\n",
       "\n",
       "        [[-1.29,  0.29],\n",
       "         [ 1.58,  0.56]]]])"
      ]
     },
     "execution_count": 10,
     "metadata": {},
     "output_type": "execute_result"
    }
   ],
   "source": [
    "tensor"
   ]
  },
  {
   "cell_type": "code",
   "execution_count": 14,
   "id": "4c56719c-5b3b-476e-99f6-9101d80b03ce",
   "metadata": {},
   "outputs": [
    {
     "data": {
      "text/plain": [
       "array([[-0.42,  1.68,  0.12,  1.06, -1.4 ,  0.27, -0.32, -1.06],\n",
       "       [ 2.12,  0.32, -0.28,  0.82, -1.29,  0.29,  1.58,  0.56]])"
      ]
     },
     "execution_count": 14,
     "metadata": {},
     "output_type": "execute_result"
    }
   ],
   "source": [
    "tensor.flatten().reshape(2, -1)"
   ]
  },
  {
   "cell_type": "markdown",
   "id": "f22c2238-339b-415e-912e-f70e9258d563",
   "metadata": {},
   "source": [
    "# Reshape (View)"
   ]
  },
  {
   "cell_type": "code",
   "execution_count": null,
   "id": "87ef924c-36a0-4d36-950b-3c4bda7da4bd",
   "metadata": {},
   "outputs": [],
   "source": []
  }
 ],
 "metadata": {
  "kernelspec": {
   "display_name": "env_ml",
   "language": "python",
   "name": "env_ml"
  },
  "language_info": {
   "codemirror_mode": {
    "name": "ipython",
    "version": 3
   },
   "file_extension": ".py",
   "mimetype": "text/x-python",
   "name": "python",
   "nbconvert_exporter": "python",
   "pygments_lexer": "ipython3",
   "version": "3.12.7"
  }
 },
 "nbformat": 4,
 "nbformat_minor": 5
}
