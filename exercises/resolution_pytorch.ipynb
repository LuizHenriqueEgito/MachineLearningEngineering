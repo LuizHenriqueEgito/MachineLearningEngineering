{
 "cells": [
  {
   "cell_type": "code",
   "execution_count": 2,
   "id": "6f6ac06f-f749-442c-a89c-b695e7c94152",
   "metadata": {},
   "outputs": [],
   "source": [
    "import torch\n",
    "import torch.nn.functional as F\n",
    "import torch.nn as nn"
   ]
  },
  {
   "cell_type": "markdown",
   "id": "6c969d34-8ca9-4ccf-93d4-19a84f98a077",
   "metadata": {},
   "source": [
    "# Flatten"
   ]
  },
  {
   "cell_type": "markdown",
   "id": "47005585-6174-47d4-a465-f37f881fe368",
   "metadata": {},
   "source": [
    "- [ ] Arrume"
   ]
  },
  {
   "cell_type": "code",
   "execution_count": 3,
   "id": "ae594d56-6818-442c-84ce-9db224bd25d8",
   "metadata": {},
   "outputs": [],
   "source": [
    "tensor = torch.randn(2, 2, 2, 2).round(decimals=2)"
   ]
  },
  {
   "cell_type": "code",
   "execution_count": 4,
   "id": "f4053bf9-8112-44a1-9ca3-c85dd600472b",
   "metadata": {},
   "outputs": [
    {
     "data": {
      "text/plain": [
       "tensor([[[[ 0.6700, -0.7200],\n",
       "          [ 0.7500,  0.7000]],\n",
       "\n",
       "         [[ 0.7100, -0.7400],\n",
       "          [ 0.7200, -0.3800]]],\n",
       "\n",
       "\n",
       "        [[[ 1.5600,  0.3300],\n",
       "          [-0.2200,  0.7000]],\n",
       "\n",
       "         [[ 0.3200, -0.8400],\n",
       "          [-0.0800, -0.4000]]]])"
      ]
     },
     "execution_count": 4,
     "metadata": {},
     "output_type": "execute_result"
    }
   ],
   "source": [
    "tensor"
   ]
  },
  {
   "cell_type": "code",
   "execution_count": 14,
   "id": "0f82f9f5-3893-4782-b5a4-656cdf622319",
   "metadata": {},
   "outputs": [
    {
     "data": {
      "text/plain": [
       "tensor([ 0.6700, -0.7200,  0.7500,  0.7000,  0.7100, -0.7400,  0.7200, -0.3800,\n",
       "         1.5600,  0.3300, -0.2200,  0.7000,  0.3200, -0.8400, -0.0800, -0.4000])"
      ]
     },
     "execution_count": 14,
     "metadata": {},
     "output_type": "execute_result"
    }
   ],
   "source": [
    "tensor.flatten(start_dim=0, end_dim=-1)"
   ]
  },
  {
   "cell_type": "code",
   "execution_count": 5,
   "id": "b00d7982-e217-4c89-a987-c7332c34bece",
   "metadata": {},
   "outputs": [
    {
     "data": {
      "text/plain": [
       "tensor([[ 0.6700, -0.7200,  0.7500,  0.7000,  0.7100, -0.7400,  0.7200, -0.3800],\n",
       "        [ 1.5600,  0.3300, -0.2200,  0.7000,  0.3200, -0.8400, -0.0800, -0.4000]])"
      ]
     },
     "execution_count": 5,
     "metadata": {},
     "output_type": "execute_result"
    }
   ],
   "source": [
    "tensor.view(2, -1)"
   ]
  },
  {
   "cell_type": "code",
   "execution_count": 6,
   "id": "4e03307a-a6b6-4746-bdd7-bb8e50163684",
   "metadata": {},
   "outputs": [
    {
     "data": {
      "text/plain": [
       "tensor([[[ 0.6700, -0.7200],\n",
       "         [ 0.7500,  0.7000],\n",
       "         [ 0.7100, -0.7400],\n",
       "         [ 0.7200, -0.3800]],\n",
       "\n",
       "        [[ 1.5600,  0.3300],\n",
       "         [-0.2200,  0.7000],\n",
       "         [ 0.3200, -0.8400],\n",
       "         [-0.0800, -0.4000]]])"
      ]
     },
     "execution_count": 6,
     "metadata": {},
     "output_type": "execute_result"
    }
   ],
   "source": [
    "tensor.flatten(start_dim=1, end_dim=2)"
   ]
  },
  {
   "cell_type": "code",
   "execution_count": 7,
   "id": "2577b084-5e47-4afc-a623-17d03c99f1d7",
   "metadata": {},
   "outputs": [
    {
     "data": {
      "text/plain": [
       "torch.Size([2, 4, 2])"
      ]
     },
     "execution_count": 7,
     "metadata": {},
     "output_type": "execute_result"
    }
   ],
   "source": [
    "tensor.flatten(start_dim=1, end_dim=2).shape"
   ]
  },
  {
   "cell_type": "code",
   "execution_count": 8,
   "id": "679a3031-d036-4150-833f-89c816f7d388",
   "metadata": {},
   "outputs": [
    {
     "data": {
      "text/plain": [
       "tensor([[[ 0.6700, -0.7200],\n",
       "         [ 0.7500,  0.7000]],\n",
       "\n",
       "        [[ 0.7100, -0.7400],\n",
       "         [ 0.7200, -0.3800]],\n",
       "\n",
       "        [[ 1.5600,  0.3300],\n",
       "         [-0.2200,  0.7000]],\n",
       "\n",
       "        [[ 0.3200, -0.8400],\n",
       "         [-0.0800, -0.4000]]])"
      ]
     },
     "execution_count": 8,
     "metadata": {},
     "output_type": "execute_result"
    }
   ],
   "source": [
    "torch.flatten(tensor, start_dim=0, end_dim=1)"
   ]
  },
  {
   "cell_type": "code",
   "execution_count": 9,
   "id": "c342172d-9cea-4be3-a004-1e6f2d2763c5",
   "metadata": {},
   "outputs": [
    {
     "data": {
      "text/plain": [
       "tensor([[ 0.6700, -0.7200,  0.7500,  0.7000,  0.7100, -0.7400,  0.7200, -0.3800],\n",
       "        [ 1.5600,  0.3300, -0.2200,  0.7000,  0.3200, -0.8400, -0.0800, -0.4000]])"
      ]
     },
     "execution_count": 9,
     "metadata": {},
     "output_type": "execute_result"
    }
   ],
   "source": [
    "nn.Flatten()(tensor)"
   ]
  },
  {
   "cell_type": "code",
   "execution_count": 10,
   "id": "be26316d-bc95-4c23-a1e1-b816b0e966d1",
   "metadata": {},
   "outputs": [
    {
     "name": "stdout",
     "output_type": "stream",
     "text": [
      "Forma original: torch.Size([2, 3, 4, 5])\n",
      "Forma após Flatten: torch.Size([2, 12, 5])\n"
     ]
    }
   ],
   "source": [
    "flatten = nn.Flatten(start_dim=1, end_dim=2)  # Achata apenas dimensões 1 e 2\n",
    "\n",
    "input_tensor = torch.randn(2, 3, 4, 5)  # batch_size=2, canais=3, altura=4, largura=5\n",
    "output_tensor = flatten(input_tensor)\n",
    "print(\"Forma original:\", input_tensor.shape)  # torch.Size([2, 3, 4, 5])\n",
    "print(\"Forma após Flatten:\", output_tensor.shape)  # torch.Size([2, 12, 5])"
   ]
  },
  {
   "cell_type": "code",
   "execution_count": 11,
   "id": "88e5cbdc-b428-4b64-a828-6734806a3fd2",
   "metadata": {},
   "outputs": [
    {
     "name": "stdout",
     "output_type": "stream",
     "text": [
      "Forma original: torch.Size([2, 3, 4, 5])\n",
      "Forma após Flatten: torch.Size([2, 60])\n"
     ]
    }
   ],
   "source": [
    "flatten = nn.Flatten(start_dim=1, end_dim=3)  # Achata apenas dimensões 1 e 2\n",
    "\n",
    "input_tensor = torch.randn(2, 3, 4, 5)  # batch_size=2, canais=3, altura=4, largura=5\n",
    "output_tensor = flatten(input_tensor)\n",
    "print(\"Forma original:\", input_tensor.shape)  # torch.Size([2, 3, 4, 5])\n",
    "print(\"Forma após Flatten:\", output_tensor.shape)  # torch.Size([2, 60])"
   ]
  },
  {
   "cell_type": "code",
   "execution_count": 12,
   "id": "ce69893a-f518-4523-bd6f-fdcdc9ca80d4",
   "metadata": {},
   "outputs": [
    {
     "name": "stdout",
     "output_type": "stream",
     "text": [
      "Forma após Flatten: torch.Size([2, 12, 5])\n"
     ]
    }
   ],
   "source": [
    "# Aplicando o flatten nas dimensões 1 e 2 (canais e altura)\n",
    "output_tensor = torch.flatten(input_tensor, start_dim=1, end_dim=2)\n",
    "print(\"Forma após Flatten:\", output_tensor.shape)  # torch.Size([2, 12, 5])"
   ]
  },
  {
   "cell_type": "code",
   "execution_count": 13,
   "id": "62f863f0-5dde-4858-91f1-448c0d558902",
   "metadata": {},
   "outputs": [
    {
     "name": "stdout",
     "output_type": "stream",
     "text": [
      "Forma após Flatten: torch.Size([2, 60])\n"
     ]
    }
   ],
   "source": [
    "# Aplicando o flatten nas dimensões 1 e 2 (canais e altura)\n",
    "output_tensor = torch.flatten(input_tensor, start_dim=1, end_dim=3)\n",
    "print(\"Forma após Flatten:\", output_tensor.shape)  # torch.Size([2, 60])"
   ]
  },
  {
   "cell_type": "markdown",
   "id": "01e57bde-efe0-4e2b-b396-e5158dc8b1e0",
   "metadata": {},
   "source": [
    "# View"
   ]
  },
  {
   "cell_type": "code",
   "execution_count": null,
   "id": "cf267478-1da7-4fd1-8b64-e373e73469ea",
   "metadata": {},
   "outputs": [],
   "source": []
  }
 ],
 "metadata": {
  "kernelspec": {
   "display_name": "Python 3 (ipykernel)",
   "language": "python",
   "name": "python3"
  },
  "language_info": {
   "codemirror_mode": {
    "name": "ipython",
    "version": 3
   },
   "file_extension": ".py",
   "mimetype": "text/x-python",
   "name": "python",
   "nbconvert_exporter": "python",
   "pygments_lexer": "ipython3",
   "version": "3.8.2"
  }
 },
 "nbformat": 4,
 "nbformat_minor": 5
}
